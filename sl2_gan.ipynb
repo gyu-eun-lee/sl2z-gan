{
 "cells": [
  {
   "cell_type": "code",
   "execution_count": 1,
   "metadata": {},
   "outputs": [],
   "source": [
    "from models import GAN, SL2Z_DataModule\n",
    "from pytorch_lightning import Trainer\n",
    "import matrix_methods as mm"
   ]
  },
  {
   "cell_type": "code",
   "execution_count": 2,
   "metadata": {},
   "outputs": [],
   "source": [
    "model = GAN()\n",
    "sl2z_dm = SL2Z_DataModule('data.npy', batch_size=8192)"
   ]
  },
  {
   "cell_type": "code",
   "execution_count": 3,
   "metadata": {},
   "outputs": [
    {
     "name": "stderr",
     "output_type": "stream",
     "text": [
      "GPU available: True (cuda), used: True\n",
      "TPU available: False, using: 0 TPU cores\n",
      "IPU available: False, using: 0 IPUs\n",
      "HPU available: False, using: 0 HPUs\n"
     ]
    }
   ],
   "source": [
    "trainer = Trainer(\n",
    "    max_epochs = 20,\n",
    "    accelerator = 'auto',\n",
    "    logger = False\n",
    "    )"
   ]
  },
  {
   "cell_type": "code",
   "execution_count": 4,
   "metadata": {},
   "outputs": [
    {
     "name": "stderr",
     "output_type": "stream",
     "text": [
      "/home/gyueunlee/mambaforge/envs/pytorch-1.13.1/lib/python3.10/site-packages/pytorch_lightning/callbacks/model_checkpoint.py:613: UserWarning: Checkpoint directory /home/gyueunlee/repos/sl2z-gan/checkpoints exists and is not empty.\n",
      "  rank_zero_warn(f\"Checkpoint directory {dirpath} exists and is not empty.\")\n",
      "LOCAL_RANK: 0 - CUDA_VISIBLE_DEVICES: [0]\n",
      "\n",
      "  | Name          | Type          | Params\n",
      "------------------------------------------------\n",
      "0 | generator     | Generator     | 1.3 K \n",
      "1 | discriminator | Discriminator | 1.2 K \n",
      "------------------------------------------------\n",
      "2.6 K     Trainable params\n",
      "0         Non-trainable params\n",
      "2.6 K     Total params\n",
      "0.010     Total estimated model params size (MB)\n"
     ]
    },
    {
     "name": "stdout",
     "output_type": "stream",
     "text": [
      "Creating train dataloader\n"
     ]
    },
    {
     "name": "stderr",
     "output_type": "stream",
     "text": [
      "/home/gyueunlee/mambaforge/envs/pytorch-1.13.1/lib/python3.10/site-packages/pytorch_lightning/trainer/connectors/data_connector.py:224: PossibleUserWarning: The dataloader, train_dataloader, does not have many workers which may be a bottleneck. Consider increasing the value of the `num_workers` argument` (try 12 which is the number of cpus on this machine) in the `DataLoader` init to improve performance.\n",
      "  rank_zero_warn(\n"
     ]
    },
    {
     "data": {
      "application/vnd.jupyter.widget-view+json": {
       "model_id": "031f2095ae134e6cb24be5ff2ac53e5f",
       "version_major": 2,
       "version_minor": 0
      },
      "text/plain": [
       "Training: 0it [00:00, ?it/s]"
      ]
     },
     "metadata": {},
     "output_type": "display_data"
    },
    {
     "name": "stderr",
     "output_type": "stream",
     "text": [
      "`Trainer.fit` stopped: `max_epochs=20` reached.\n"
     ]
    }
   ],
   "source": [
    "trainer.fit(model, sl2z_dm)"
   ]
  },
  {
   "cell_type": "code",
   "execution_count": 5,
   "metadata": {},
   "outputs": [],
   "source": [
    "samples = model.generate_samples(20)"
   ]
  },
  {
   "cell_type": "code",
   "execution_count": 6,
   "metadata": {},
   "outputs": [
    {
     "data": {
      "text/plain": [
       "tensor([[[ -37234.9609,   -1984.6097],\n",
       "         [ -55542.1680,   29561.5605]],\n",
       "\n",
       "        [[ -45925.2617,  -43825.6406],\n",
       "         [ -38543.0391,  -18600.9375]],\n",
       "\n",
       "        [[  15490.8223,    4311.6016],\n",
       "         [   9169.2910,  -44036.7891]],\n",
       "\n",
       "        [[ -22852.4316,  -15791.5898],\n",
       "         [  42759.5547,  -40977.4375]],\n",
       "\n",
       "        [[  24597.9785,  -54056.7500],\n",
       "         [  97373.8750,  -96227.8594]],\n",
       "\n",
       "        [[  10578.8428,  -91593.8984],\n",
       "         [  29055.7500, -101477.6484]],\n",
       "\n",
       "        [[ -15816.6865,  -29806.1699],\n",
       "         [  73232.3672,  -70501.3438]],\n",
       "\n",
       "        [[ -12647.3164,  -63940.5273],\n",
       "         [  28389.4141,  -61052.3047]],\n",
       "\n",
       "        [[   1630.5409,   -5894.9092],\n",
       "         [   2283.1511,   -4180.3979]],\n",
       "\n",
       "        [[  -9952.7451,    7554.3618],\n",
       "         [  -2395.5754,  -33431.7695]],\n",
       "\n",
       "        [[ -23120.0879,  -37079.1992],\n",
       "         [  22058.8887,   17679.9160]],\n",
       "\n",
       "        [[   -524.1798,  -20711.8242],\n",
       "         [   5971.1138,   -7777.0259]],\n",
       "\n",
       "        [[  54863.9414,  -79544.6250],\n",
       "         [  67886.9922,  -96346.6953]],\n",
       "\n",
       "        [[   8440.0293,  -35912.3086],\n",
       "         [ -94913.5547,   13114.1689]],\n",
       "\n",
       "        [[ -26775.7676,  -17417.1875],\n",
       "         [  37421.0664,  -40934.5508]],\n",
       "\n",
       "        [[  12821.1025,  -46506.8047],\n",
       "         [ 104543.2969, -104857.1406]],\n",
       "\n",
       "        [[  20755.5176,  -56271.7266],\n",
       "         [ 104724.6016, -103026.2656]],\n",
       "\n",
       "        [[ -19868.4570,  -38359.3438],\n",
       "         [  25280.7285,   12066.5195]],\n",
       "\n",
       "        [[  -3502.8418, -107373.2500],\n",
       "         [  43917.9883, -109477.3516]],\n",
       "\n",
       "        [[  67956.8125,  -52035.2070],\n",
       "         [ -22250.6465,  -67115.1328]]])"
      ]
     },
     "execution_count": 6,
     "metadata": {},
     "output_type": "execute_result"
    }
   ],
   "source": [
    "samples"
   ]
  },
  {
   "cell_type": "code",
   "execution_count": 8,
   "metadata": {},
   "outputs": [
    {
     "data": {
      "text/plain": [
       "array([-1.2109531e+09, -8.3492045e+08, -7.2170042e+08,  1.6116754e+09,\n",
       "        2.8967045e+09,  1.5878134e+09,  3.2978739e+09,  2.5873818e+09,\n",
       "        6.6426590e+06,  3.5083494e+08,  4.0916474e+08,  1.2774922e+08,\n",
       "        1.1408589e+08, -3.2978811e+09,  1.7478237e+09,  3.5175905e+09,\n",
       "        3.7546706e+09,  7.3000902e+08,  5.0990991e+09, -5.7187471e+09],\n",
       "      dtype=float32)"
      ]
     },
     "execution_count": 8,
     "metadata": {},
     "output_type": "execute_result"
    }
   ],
   "source": [
    "mm.det_multi(samples.detach().numpy())"
   ]
  },
  {
   "cell_type": "code",
   "execution_count": null,
   "metadata": {},
   "outputs": [],
   "source": []
  }
 ],
 "metadata": {
  "kernelspec": {
   "display_name": "pytorch-1.13.1",
   "language": "python",
   "name": "python3"
  },
  "language_info": {
   "codemirror_mode": {
    "name": "ipython",
    "version": 3
   },
   "file_extension": ".py",
   "mimetype": "text/x-python",
   "name": "python",
   "nbconvert_exporter": "python",
   "pygments_lexer": "ipython3",
   "version": "3.10.9"
  },
  "orig_nbformat": 4,
  "vscode": {
   "interpreter": {
    "hash": "3e9b712290b34ad9bbf7516fc4b3d5fae0f8c1d8630a219932cb6ee1061d4f63"
   }
  }
 },
 "nbformat": 4,
 "nbformat_minor": 2
}
