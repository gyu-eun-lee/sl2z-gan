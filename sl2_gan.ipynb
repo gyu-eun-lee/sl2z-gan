{
 "cells": [
  {
   "cell_type": "code",
   "execution_count": null,
   "metadata": {},
   "outputs": [],
   "source": [
    "import gc\n",
    "import matrix_methods as mm\n",
    "import torch\n",
    "\n",
    "from models import GAN, SL2Z_DataModule\n",
    "from os import cpu_count\n",
    "from pytorch_lightning import Trainer\n",
    "from pytorch_lightning.loggers import TensorBoardLogger"
   ]
  },
  {
   "cell_type": "code",
   "execution_count": null,
   "metadata": {},
   "outputs": [],
   "source": [
    "def train(config = None):\n",
    "\tgc.collect()\n",
    "\ttorch.cuda.empty_cache()\n",
    "\n",
    "\tmodel = GAN(config=config)\n",
    "\tdatamodule = SL2Z_DataModule(config=config)\n",
    "\tlogger = TensorBoardLogger(save_dir='./sl2z-gan-logs')\n",
    "\ttrainer = Trainer(\n",
    "\t\t#fast_dev_run = True,\n",
    "\t\taccelerator = 'gpu',\n",
    "\t\tdevices = 'auto',\n",
    "\t\tmax_epochs = config['epochs'],\n",
    "\t\tlogger = logger,\n",
    "\t\tbenchmark = True,\n",
    "\t\tenable_progress_bar = False # workaround for Jupyter websocket timeout bug\n",
    "\t)\n",
    "\ttrainer.fit(model, datamodule)\n",
    "\treturn trainer, model, datamodule"
   ]
  },
  {
   "cell_type": "code",
   "execution_count": null,
   "metadata": {},
   "outputs": [],
   "source": [
    "train_config = {\n",
    "\t'epochs': 900,\n",
    "\t'lr': 1e-3,\n",
    "    'noise_dim': 8,\n",
    "    'noise_sigma': 1e5,\n",
    "    'packing_degree': 16,\n",
    "\t'data_path': 'data.npy',\n",
    "\t'batch_size': 8192,\n",
    "\t'num_workers': cpu_count()\n",
    "}"
   ]
  },
  {
   "cell_type": "code",
   "execution_count": null,
   "metadata": {},
   "outputs": [],
   "source": [
    "trainer, model, datamodule = train(train_config)"
   ]
  },
  {
   "cell_type": "code",
   "execution_count": null,
   "metadata": {},
   "outputs": [],
   "source": [
    "samples = model.generate_samples(20)"
   ]
  },
  {
   "cell_type": "code",
   "execution_count": null,
   "metadata": {},
   "outputs": [],
   "source": [
    "torch.round(samples)"
   ]
  },
  {
   "cell_type": "code",
   "execution_count": null,
   "metadata": {},
   "outputs": [],
   "source": [
    "mm.det_multi(torch.round(samples).detach().numpy())"
   ]
  }
 ],
 "metadata": {
  "kernelspec": {
   "display_name": "sl2z-gan",
   "language": "python",
   "name": "python3"
  },
  "language_info": {
   "codemirror_mode": {
    "name": "ipython",
    "version": 3
   },
   "file_extension": ".py",
   "mimetype": "text/x-python",
   "name": "python",
   "nbconvert_exporter": "python",
   "pygments_lexer": "ipython3",
   "version": "3.10.9"
  },
  "orig_nbformat": 4,
  "vscode": {
   "interpreter": {
    "hash": "bdbbd2526effa749570c8d88af5c741e3e611853f88a2a65fc6a1f4f1d973d64"
   }
  }
 },
 "nbformat": 4,
 "nbformat_minor": 2
}
